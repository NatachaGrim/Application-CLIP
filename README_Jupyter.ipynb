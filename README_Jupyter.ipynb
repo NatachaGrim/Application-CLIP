{
 "cells": [
  {
   "cell_type": "markdown",
   "id": "e51fb1c2-126c-473b-a465-a3a522301655",
   "metadata": {},
   "source": [
    "# Application CLIP"
   ]
  },
  {
   "cell_type": "markdown",
   "id": "684b6fe4-5fbd-4527-a903-318927ed29af",
   "metadata": {},
   "source": [
    "Refonte de l'application développée par [ThorkildFregi](https://github.com/ThorkildFregi) et [Altomator](https://github.com/altomator).\n",
    "\n",
    "**NOTA BENE** : l'intégration d'une étape de _fine-tuning_ est en développement.\n",
    "\n",
    "L'application utilise le modèle CLIP (_Contrastive Language-Image Pre-training_) pour traiter un fonds d'images et l'interroger avec des requêtes textuelles, le tout depuis une interface web.\n",
    "\n",
    "Pour accéder à la table des matières, cliquez sur l'icône de menu déroulant à gauche de votre écran :\n",
    "\n",
    "<img src=\"README_images/notebook_toc.png\" alt=\"Notebook ToC\" width=\"30\"/>"
   ]
  },
  {
   "cell_type": "markdown",
   "id": "7c08ce76-9f3d-4298-91fc-c517b85b6b41",
   "metadata": {},
   "source": [
    "## Cloner l'application"
   ]
  },
  {
   "cell_type": "markdown",
   "id": "753e0581-2976-439c-82e2-bae1ce2e1eb5",
   "metadata": {},
   "source": [
    "On va créer une copie de l'application, un \"clone\" sur cet espace Jupyter. Cela permettra de mettre à jour l'application très simplement.\n",
    "\n",
    "Rendez-vous sur la [page GitHub de l'application](https://github.com/NatachaGrim/Application-CLIP/tree/main).\n",
    "\n",
    "En haut de la page se trouve un bouton vert **clone** :\n",
    "\n",
    "<img src=\"README_images/github_code_button.png\" alt=\"Code button\" width=\"100\"/>\n",
    "\n",
    "Cliquez dessus et copiez l'url alors affichée :\n",
    "\n",
    "<img src=\"README_images/github_clone_url.png\" alt=\"Clone URL\" width=\"360\"/>\n",
    "\n",
    "Dans l'interface Jupyter, ouvez un nouvel onglet et sélectionnez **Terminal** :\n",
    "\n",
    "<img src=\"README_images/jupyter_new_terminal.png\" alt=\"New terminal in Jupyter\" width=\"100\"/>"
   ]
  },
  {
   "cell_type": "markdown",
   "id": "d6aa4606-1c29-4dcb-899f-8f70dd8d2f72",
   "metadata": {},
   "source": [
    "### Comment se déplacer depuis le terminal"
   ]
  },
  {
   "cell_type": "markdown",
   "id": "c9d341e5-62ad-40cf-b70e-03e7c8d0a2a4",
   "metadata": {},
   "source": [
    "À gauche de votre curseur clignotant permettant de saisir des commandes est affiché l'endroit où vous vous trouvez dans l'arborescence du serveur.\n",
    "\n",
    "Au sein du terminal, on se déplace de dossier en dossier (_directory_ en anglais) grâce à la commande ```cd``` (_change directory_). Par exemple :\n",
    "\n",
    "```\n",
    "📁 dossier_1\n",
    " ├─── 📁 dossier_2\n",
    " └─── 📁 dossier_3\n",
    "```\n",
    "\n",
    "On se trouve dans le ```dossier_1```. Pour aller dans le ```dossier_2```, il faut saisir :\n",
    "\n",
    "```cd dossier_2```\n",
    "\n",
    "Pour remonter d'un cran dans l'arborescence, il faut saisir la commande ```cd ..```. On se trouve dans le ```dossier_2```, pour aller dans le ```dossier_3``` on va donc saisir :\n",
    "\n",
    "```cd ..```\n",
    "\n",
    "```cd dossier_3```"
   ]
  },
  {
   "cell_type": "markdown",
   "id": "341d2e63-6c8e-485c-9139-a70f1671efa4",
   "metadata": {},
   "source": [
    "Pour aller plus vite, on peut utiliser la touche de tabulation pour autocompléter le nom du dossier où on souhaite se déplacer. L'autocomplétion est partielle pour les noms de dossier qui commencent identiquement mais dont la fin est différente.\n",
    "\n",
    "Pour l'exemple ci-dessus, saisir ```cd do``` puis appuyer sur la touche de tabulation va donner ```cd dossier_```. Il faut alors saisir ```2``` ou ```3``` pour compléter le nom.\n",
    "\n",
    "Déplacez-vous à l'endroit où vous voulez cloner l'application, saisissez la commande ```git clone``` puis collez l'URL copiée sur GitHub :\n",
    "\n",
    "```git clone <URL>```"
   ]
  },
  {
   "cell_type": "markdown",
   "id": "c50f20f0-6808-4e37-8eb9-621c7d2fd14d",
   "metadata": {},
   "source": [
    "## Structure"
   ]
  },
  {
   "cell_type": "markdown",
   "id": "770f9086-85ac-4ead-b055-516fade1275d",
   "metadata": {},
   "source": [
    "Pour utiliser l'application, il faut intégrer un fonds d'images et une ontologie dans sa structure. Ci-dessous, son architecture de base :\n",
    "\n",
    "```\n",
    "📁 CLIP-app\n",
    " ├─── 📁 app\n",
    " │     ├─── app.py\n",
    " │     ├─── config.py\n",
    " │     ├─── 📁 models\n",
    " │     ├─── 📁 routes\n",
    " │     ├─── 📁 scripts\n",
    " │     ├─── 📁 static\n",
    " │     ├─── 📁 templates\n",
    " │     └─── 📁 utils\n",
    " ├─── 📁 clip_env\n",
    " ├─── launch_PowerShell\n",
    " ├─── launch_Bash\n",
    " ├─── run.py\n",
    " └─── requirements.txt\n",
    "```"
   ]
  },
  {
   "cell_type": "markdown",
   "id": "d075a0d3-75d0-4274-822f-f8c3af5a7ecd",
   "metadata": {},
   "source": [
    "### Dossiers et fichiers à créer"
   ]
  },
  {
   "cell_type": "markdown",
   "id": "a0aa50ab-c215-4792-b469-b80b37d51488",
   "metadata": {},
   "source": [
    "C'est dans le dossier ```📁 static``` que vous chargez vos données. Vous devez créer les dossiers suivants en son sein :\n",
    "\n",
    "```\n",
    "📁 static\n",
    " └─── 📁 project_name\n",
    "       ├─── 📁 images\n",
    "       │     ├─── 📁 subfoler_01\n",
    "       │     ├─── 📁 subfolder_02\n",
    "       │     └─── 📁 subfolder_...\n",
    "       └─── 📁 ontology\n",
    "             └─── project_name_ontology.txt\n",
    "```\n",
    "\n",
    "Vous pouvez librement nommer le dossier ```📁 project_name``` ainsi que chaque ```📁 subfolder``` (les espaces, accents et caractères spéciaux sont proscrits). En conséquence, le fichier ```project_name_ontology.txt``` doit être nommé d'après le nom du dossier ```📁 project_name```. Le nom des dossiers ```📁 images``` et ```📁 ontology``` doit rester inchangé :\n",
    "\n",
    "```\n",
    "📁 static\n",
    " └─── 📁 Royere\n",
    "       ├─── 📁 images\n",
    "       │     ├─── 📁 petites_gouaches\n",
    "       │     ├─── 📁 grandes_gouaches\n",
    "       │     ├─── 📁 calques_vue_ensemble\n",
    "       │     └─── 📁 calques_execution\n",
    "       └─── 📁 ontology\n",
    "             └─── Royere_ontology.txt\n",
    "```"
   ]
  },
  {
   "cell_type": "markdown",
   "id": "08436f57-e0c8-4e9e-876e-bfcb14b37f11",
   "metadata": {},
   "source": [
    "### Données requises"
   ]
  },
  {
   "cell_type": "markdown",
   "id": "bb030b6c-b02f-4588-839d-5a71126e5a3e",
   "metadata": {},
   "source": [
    "L'application a besoin de deux types de données pour fonctionner : des données visuelles (images) et des données textuelles (ontologie).\n",
    "- Les images se trouvent dans le dossier ```📁 images``` ;\n",
    "- L'ontologie se trouve dans le fichier ```project_name_ontology.txt```.\n",
    "\n",
    "Le fichier d'ontologie ```.txt``` contient les mots-clés et leur description. La structure ci-dessous doit être respectée :\n",
    "\n",
    "```\n",
    "\"Chaise\": \"siège à dossier et généralement sans bras\"\n",
    "\"Tapis\": \"panneau d'étoffe, ouvrage que l'on pose sur un meuble, un mur ou un sol\"\n",
    "\"Luminaire\": \"tout objet constituant l'éclairage et la décoration lumineuse\"\n",
    "```"
   ]
  },
  {
   "cell_type": "markdown",
   "id": "f2dd6c88-53f5-4b91-a6bb-448894d61672",
   "metadata": {},
   "source": [
    "### Fichiers générés"
   ]
  },
  {
   "cell_type": "markdown",
   "id": "3f086e23-e791-4ff4-a8f3-c430aee419ef",
   "metadata": {},
   "source": [
    "Les scripts exécutés lors du lancement vont générer trois fichiers dans le dossier ```📁 project_name``` :\n",
    "\n",
    "- ```project_name_ontology.csv``` ;\n",
    "- ```project_name_list.txt``` ;\n",
    "- ```project_name_directory.txt```.\n",
    "\n",
    "Le fichier ```project_name_ontology.csv``` résulte de la conversion du fichier ```project_name_ontology.txt``` au format ```.csv```. Il sera utilisé par le modèle pour traiter les requêtes.\n",
    "\n",
    "Le fichier ```project_name_list.txt``` liste les images du fonds et indique leur chemin relatif.\n",
    "\n",
    "Le fichier ```project_name_directory.txt``` synthétise des informations sur le dossier ```📁 project_name``` : son chemin relatif, son chemin absolu, le nombre de sous-dossiers et le nombre total d'images. Sur un pas de 10, le chemin d'une image est listé.\n",
    "\n",
    "Une fois les scripts exécutés, la structure du dossier ```📁 project_name``` est donc la suivante :\n",
    "\n",
    "```\n",
    "📁 static\n",
    " └─── 📁 project_name\n",
    "       ├─── 📁 images\n",
    "       ├─── 📁 ontology\n",
    "       │     ├─── project_name_ontology.txt\n",
    "       │     └─── project_name_ontology.csv\n",
    "       ├─── project_name_list.txt\n",
    "       └─── project_name_directory.txt\n",
    "```"
   ]
  },
  {
   "cell_type": "markdown",
   "id": "581f910d-6d3b-48a5-8e66-ea42b7b2966e",
   "metadata": {},
   "source": [
    "## Installer l'environnement virtuel"
   ]
  },
  {
   "cell_type": "markdown",
   "id": "79b393ee-d134-48b4-85e0-ef9f861c7ec0",
   "metadata": {},
   "source": [
    "À la racine de l'application se trouve le dossier ```📁 clip_env```. Il s'agit de l'environnement virtuel qu'il faut créer pour faire fonctionner le code de l'application."
   ]
  },
  {
   "cell_type": "markdown",
   "id": "6e91605e-003b-4eed-bd1b-882025b498be",
   "metadata": {},
   "source": [
    "### Étape 1 : créer l'environnement virtuel"
   ]
  },
  {
   "cell_type": "markdown",
   "id": "ee22e012-4969-4a60-ac3a-0d549b2628ed",
   "metadata": {},
   "source": [
    "Pour faire fonctionner l'application, il faut installer des \"paquets\" sur lesquels reposent le code source. On parle alors de dépendances. Pour ce faire, on créé un environnement virtuel afin d'éviter les conflits avec d'autres paquets ou d'autres versions déjà présents sur l'ordinateur.\n",
    "\n",
    "Ouvrez votre terminal et déplacez-vous dans le dossier ```📁 CLIP-app``` puis exécutez la commande suivante :\n",
    "\n",
    "```python3 -m venv clip_env```\n",
    "\n",
    "Un dossier ```clip_env``` devrait alors apparaître :\n",
    "\n",
    "<img src=\"README_images/jupyter_clip_env.png\" alt=\"Virtual env\" width=\"150\"/>"
   ]
  },
  {
   "cell_type": "markdown",
   "id": "907e9864-bdbe-4e18-acf6-f6f5402d309e",
   "metadata": {},
   "source": [
    "### Étape 2 : installer les dépendances"
   ]
  },
  {
   "cell_type": "markdown",
   "id": "a89d1bba-9dfc-4a22-ad62-40788645fdca",
   "metadata": {},
   "source": [
    "Activez l'environnement virtuel :\n",
    "\n",
    "```source clip_env/bin/activate```\n",
    "\n",
    "Installez les dépendances contenues dans le fichier ```requirements.txt``` :\n",
    "```pip install -r requirements.txt```\n",
    "\n",
    "L'installation peut prendre plus ou moins de temps en fonction de votre vitesse de calcul et de la qualité de votre connexion. Vous devez attendre jusqu'à ce que le chemin ```~/Application-CLIP/CLIP-app$``` s'affiche à gauche de votre curseur.\n",
    "\n",
    "Vous disposez maintenant d'un environnement virtuel. Lorsqu'il est activé, le chemin indiqué à gauche de votre curseur est précédé de l'indicateur ```(clip_env)```.\n",
    "\n",
    "Vous devrez l'activer à chaque lancement de l'application et le désactiver après chaque session d'utilisation.\n",
    "\n",
    "L'activer :\n",
    "\n",
    "```source clip_env/bin/activate```\n",
    "\n",
    "Le désactiver :\n",
    "\n",
    "```deactivate```"
   ]
  },
  {
   "cell_type": "markdown",
   "id": "d5c7966e-e765-45ae-aa52-ff9889636fb0",
   "metadata": {},
   "source": [
    "## Lancement"
   ]
  },
  {
   "cell_type": "markdown",
   "id": "0b89bda5-2923-466b-a7e9-74ceb63b5825",
   "metadata": {},
   "source": [
    "Pour chaque lancement, il faut suivre les étapes ci-dessous :"
   ]
  },
  {
   "cell_type": "markdown",
   "id": "b52c77de-be69-4672-b62e-ba0d91cd9092",
   "metadata": {},
   "source": [
    "### Étape 1 : se positionner au bon endroit"
   ]
  },
  {
   "cell_type": "markdown",
   "id": "e59623e1-5a06-4eb9-8881-70c68b6e452a",
   "metadata": {},
   "source": [
    "Positionnez-vous dans le dossier ```📁 CLIP-app```."
   ]
  },
  {
   "cell_type": "markdown",
   "id": "026df941-2084-46a7-9fc4-41e4e6ede78f",
   "metadata": {},
   "source": [
    "### Étape 2 : activer l'environnement virtuel"
   ]
  },
  {
   "cell_type": "markdown",
   "id": "1451ec5f-74bd-40de-8412-a3d7835c3d8c",
   "metadata": {},
   "source": [
    "```source clip_env/bin/activate```"
   ]
  },
  {
   "cell_type": "markdown",
   "id": "4f503e47-4ce4-424a-966b-a97e9cde5609",
   "metadata": {},
   "source": [
    "### Étape 3 : lancer le _launcher Jupyter_"
   ]
  },
  {
   "cell_type": "markdown",
   "id": "882a58e8-a983-4583-a687-11717672dd28",
   "metadata": {},
   "source": [
    "Saisissez la commande suivante :\n",
    "\n",
    "```bash launch_Jupyter.sh```\n",
    "\n",
    "L'interface suivante devrait s'afficher :\n",
    "\n",
    "<img src=\"README_images/jupyter_launcher.png\" alt=\"New terminal in Jupyter\" width=\"650\"/>\n",
    "\n",
    "Copiez l'URL affichée puis saisissez le nom de votre ```📁 project_name```. L'application va se lancer directement dans le terminal. Ouvrez alors un nouvel onglet dans votre navigateur et collez l'URL."
   ]
  },
  {
   "cell_type": "markdown",
   "id": "d67ba443-9dec-4ae9-a735-41da9179902f",
   "metadata": {},
   "source": [
    "### Étape 4 : quitter l'application"
   ]
  },
  {
   "cell_type": "markdown",
   "id": "4dd02a66-47e9-49d2-a278-87f3ac4bb2bb",
   "metadata": {},
   "source": [
    "Depuis le terminal, pressez simplement la touche ```ctrl``` enfoncée et appuyez sur la touche ```c```. N'oubliez pas de désactiver l'environnement virtuel."
   ]
  }
 ],
 "metadata": {
  "kernelspec": {
   "display_name": "Python 3 (ipykernel)",
   "language": "python",
   "name": "python3"
  },
  "language_info": {
   "codemirror_mode": {
    "name": "ipython",
    "version": 3
   },
   "file_extension": ".py",
   "mimetype": "text/x-python",
   "name": "python",
   "nbconvert_exporter": "python",
   "pygments_lexer": "ipython3",
   "version": "3.10.10"
  }
 },
 "nbformat": 4,
 "nbformat_minor": 5
}
